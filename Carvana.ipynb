{
 "cells": [
  {
   "cell_type": "code",
   "execution_count": 1,
   "metadata": {},
   "outputs": [
    {
     "name": "stderr",
     "output_type": "stream",
     "text": [
      "Using TensorFlow backend.\n"
     ]
    }
   ],
   "source": [
    "import glob\n",
    "\n",
    "import numpy as np\n",
    "import pandas as pd\n",
    "\n",
    "import os\n",
    "import math\n",
    "import random\n",
    "\n",
    "import cv2\n",
    "\n",
    "import matplotlib\n",
    "import matplotlib.pyplot as plt\n",
    "import matplotlib.image as mpimg\n",
    "from mpl_toolkits.axes_grid1 import ImageGrid\n",
    "\n",
    "from keras import backend as K\n",
    "from keras.models import Sequential, Model\n",
    "from keras.layers import Input, Dense, Dropout, Flatten, Lambda, concatenate\n",
    "from keras.layers import Conv2D, Conv2DTranspose, MaxPooling2D, AveragePooling2D\n",
    "from keras.layers.normalization import BatchNormalization\n",
    "from keras.preprocessing.image import ImageDataGenerator\n",
    "from keras.regularizers import l2\n",
    "from keras.optimizers import Adam\n",
    "from keras.callbacks import ModelCheckpoint\n",
    "\n",
    "from sklearn.model_selection import train_test_split\n",
    "from sklearn.utils import shuffle\n",
    "\n",
    "%matplotlib inline\n",
    "K.set_image_data_format('channels_last')"
   ]
  },
  {
   "cell_type": "code",
   "execution_count": 2,
   "metadata": {
    "collapsed": true
   },
   "outputs": [],
   "source": [
    "DATA_FOLDER = 'data'\n",
    "sample_models = ['00087a6bd4dc', '169f5f6d8c9d', 'f7ad86e13ed7']\n",
    "sample_number = [3, 6, 9]"
   ]
  },
  {
   "cell_type": "code",
   "execution_count": 3,
   "metadata": {
    "collapsed": true
   },
   "outputs": [],
   "source": [
    "from textwrap import wrap\n",
    "\n",
    "def display(images, cols=None, maxcols=10, width=16, titles=None):\n",
    "    if cols is None:\n",
    "        cols = len(images)\n",
    "    n_cols = cols if cols < maxcols else maxcols\n",
    "    plt.rc('axes', grid=False)\n",
    "    fig1 = plt.figure(1, (width, width * math.ceil(len(images)/n_cols)))\n",
    "    grid1 = ImageGrid(\n",
    "                fig1,\n",
    "                111,\n",
    "                nrows_ncols=(math.ceil(len(images)/n_cols), n_cols),\n",
    "                axes_pad=(0.1, 0.6)\n",
    "            )\n",
    "\n",
    "    for index, img in enumerate(images):\n",
    "        grid1[index].grid = False\n",
    "        if titles is not None:\n",
    "            grid1[index].set_title('\\n'.join(wrap(titles[index], width=25)))\n",
    "        if len(img.shape) == 2:\n",
    "            grid1[index].imshow(img, cmap='gray')\n",
    "        else:\n",
    "            grid1[index].imshow(img)"
   ]
  },
  {
   "cell_type": "code",
   "execution_count": 4,
   "metadata": {
    "collapsed": true
   },
   "outputs": [],
   "source": [
    "def combine_images(dataset, fmt):\n",
    "    return [os.path.join(DATA_FOLDER, dataset, '{}_{:02d}.{}'.format(model, num, fmt)) for model in sample_models for num in sample_number]\n",
    "image_names = combine_images('train', 'jpg')\n",
    "mask_names = combine_images('test', 'gif')"
   ]
  },
  {
   "cell_type": "code",
   "execution_count": 5,
   "metadata": {
    "collapsed": true
   },
   "outputs": [],
   "source": [
    "images = [mpimg.imread(fname) for fname in image_names]\n",
    "#masks = [mpimg.imread(fname) for fname in mask_names]"
   ]
  },
  {
   "cell_type": "code",
   "execution_count": 6,
   "metadata": {},
   "outputs": [],
   "source": [
    "#display(images, cols=3)"
   ]
  },
  {
   "cell_type": "code",
   "execution_count": 7,
   "metadata": {
    "collapsed": true
   },
   "outputs": [],
   "source": [
    "def dice_coef(y_true, y_pred):\n",
    "    smooth = 1.\n",
    "    y_true_f = K.flatten(y_true)\n",
    "    y_pred_f = K.flatten(y_pred)\n",
    "    intersection = K.sum(y_true_f * y_pred_f)\n",
    "    return (2. * intersection + smooth) / (K.sum(y_true_f) + K.sum(y_pred_f) + smooth)\n",
    "\n",
    "\n",
    "def dice_coef_loss(y_true, y_pred):\n",
    "    return -dice_coef(y_true, y_pred)"
   ]
  },
  {
   "cell_type": "code",
   "execution_count": 8,
   "metadata": {
    "collapsed": true
   },
   "outputs": [],
   "source": [
    "#resize_x, resize_y = 320, 240\n",
    "resize_x, resize_y = 32, 32"
   ]
  },
  {
   "cell_type": "code",
   "execution_count": 9,
   "metadata": {
    "collapsed": true
   },
   "outputs": [],
   "source": [
    "def preprocess(imgs):\n",
    "    return cv2.resize(imgs, (resize_x, resize_y))"
   ]
  },
  {
   "cell_type": "code",
   "execution_count": 10,
   "metadata": {
    "collapsed": true
   },
   "outputs": [],
   "source": [
    "def get_unet():\n",
    "    inputs = Input((resize_x, resize_y, 3)) # FIXME changed color channels from 1 to 3\n",
    "    norm = Lambda(lambda x: x / 127.5 - 1)(inputs)\n",
    "    conv1 = Conv2D(32, (3, 3), activation='relu', padding='same')(norm)\n",
    "    conv1 = Conv2D(32, (3, 3), activation='relu', padding='same')(conv1)\n",
    "    pool1 = MaxPooling2D(pool_size=(2, 2))(conv1)\n",
    "\n",
    "    conv2 = Conv2D(64, (3, 3), activation='relu', padding='same')(pool1)\n",
    "    conv2 = Conv2D(64, (3, 3), activation='relu', padding='same')(conv2)\n",
    "    pool2 = MaxPooling2D(pool_size=(2, 2))(conv2)\n",
    "\n",
    "    conv3 = Conv2D(128, (3, 3), activation='relu', padding='same')(pool2)\n",
    "    conv3 = Conv2D(128, (3, 3), activation='relu', padding='same')(conv3)\n",
    "    pool3 = MaxPooling2D(pool_size=(2, 2))(conv3)\n",
    "\n",
    "    conv4 = Conv2D(256, (3, 3), activation='relu', padding='same')(pool3)\n",
    "    conv4 = Conv2D(256, (3, 3), activation='relu', padding='same')(conv4)\n",
    "    pool4 = MaxPooling2D(pool_size=(2, 2))(conv4)\n",
    "\n",
    "    conv5 = Conv2D(512, (3, 3), activation='relu', padding='same')(pool4)\n",
    "    conv5 = Conv2D(512, (3, 3), activation='relu', padding='same')(conv5)\n",
    "\n",
    "    up6 = concatenate([Conv2DTranspose(256, (2, 2), strides=(2, 2), padding='same')(conv5), conv4], axis=3)\n",
    "    conv6 = Conv2D(256, (3, 3), activation='relu', padding='same')(up6)\n",
    "    conv6 = Conv2D(256, (3, 3), activation='relu', padding='same')(conv6)\n",
    "\n",
    "    up7 = concatenate([Conv2DTranspose(128, (2, 2), strides=(2, 2), padding='same')(conv6), conv3], axis=3)\n",
    "    conv7 = Conv2D(128, (3, 3), activation='relu', padding='same')(up7)\n",
    "    conv7 = Conv2D(128, (3, 3), activation='relu', padding='same')(conv7)\n",
    "\n",
    "    up8 = concatenate([Conv2DTranspose(64, (2, 2), strides=(2, 2), padding='same')(conv7), conv2], axis=3)\n",
    "    conv8 = Conv2D(64, (3, 3), activation='relu', padding='same')(up8)\n",
    "    conv8 = Conv2D(64, (3, 3), activation='relu', padding='same')(conv8)\n",
    "\n",
    "    up9 = concatenate([Conv2DTranspose(32, (2, 2), strides=(2, 2), padding='same')(conv8), conv1], axis=3)\n",
    "    conv9 = Conv2D(32, (3, 3), activation='relu', padding='same')(up9)\n",
    "    conv9 = Conv2D(32, (3, 3), activation='relu', padding='same')(conv9)\n",
    "\n",
    "    conv10 = Conv2D(1, (1, 1), activation='sigmoid')(conv9)\n",
    "\n",
    "    model = Model(inputs=[inputs], outputs=[conv10])\n",
    "\n",
    "    model.compile(optimizer=Adam(lr=1e-5), loss=dice_coef_loss, metrics=[dice_coef])\n",
    "\n",
    "    return model"
   ]
  },
  {
   "cell_type": "code",
   "execution_count": 11,
   "metadata": {
    "collapsed": true
   },
   "outputs": [],
   "source": [
    "model = get_unet()"
   ]
  },
  {
   "cell_type": "code",
   "execution_count": 12,
   "metadata": {
    "collapsed": true
   },
   "outputs": [],
   "source": [
    "from skimage import io\n",
    "\n",
    "def fliplr(img, y):\n",
    "    return np.fliplr(img.copy()), y\n",
    "\n",
    "def flipud(img, y):\n",
    "    return np.flipud(img.copy()), y\n",
    "\n",
    "def adjust_brightness(img, y, amount):\n",
    "    result = img.astype(np.int16)\n",
    "    result += amount\n",
    "    result = np.clip(result, 0, 255).astype(np.uint8)\n",
    "    return result, y\n",
    "\n",
    "def _augment(X, y):\n",
    "    new_X, new_y = [], []\n",
    "    def add(nx, ny):\n",
    "        new_X.append(nx)\n",
    "        new_y.append(ny)\n",
    "\n",
    "    amount = int(random.uniform(5, 15))\n",
    "    add(X, y)\n",
    "    add(*fliplr(X, y))\n",
    "    add(*flipud(X, y))\n",
    "    add(*flipud(*fliplr(X, y)))\n",
    "    #add(*adjust_brightness(*fliplr(X, y), amount))\n",
    "    #add(*adjust_brightness(*flipud(X, y), -amount))\n",
    "    #add(*adjust_brightness(*(X, y), amount))\n",
    "    #add(*adjust_brightness(*(X, y), -amount))\n",
    "\n",
    "    return new_X, new_y\n",
    "\n",
    "def generator(X, y, augment=False, batch_size=32):\n",
    "    X_copy, y_copy = X, y\n",
    "    while True:\n",
    "        for i in range(0, len(X_copy), batch_size):\n",
    "            X_result, y_result = [], []\n",
    "            for x, y in zip(X_copy[i:i+batch_size], y_copy[i:i+batch_size]):\n",
    "                rx, ry = io.imread(x), io.imread(y)\n",
    "                \n",
    "                if augment:\n",
    "                    rx, ry = _augment(rx, ry)\n",
    "                else:\n",
    "                    rx, ry = [rx], [ry]\n",
    "\n",
    "                rx = np.array([preprocess(x) for x in rx])\n",
    "                ry = np.array([np.expand_dims(preprocess(y), axis=2) for y in ry])\n",
    "                X_result.append(rx)\n",
    "                y_result.append(ry)\n",
    "            X_result, y_result = np.concatenate(X_result), np.concatenate(y_result)\n",
    "            yield shuffle(X_result, y_result)\n",
    "        X_copy, y_copy = shuffle(X_copy, y_copy)"
   ]
  },
  {
   "cell_type": "code",
   "execution_count": 13,
   "metadata": {
    "scrolled": true
   },
   "outputs": [
    {
     "name": "stdout",
     "output_type": "stream",
     "text": [
      "_________________________________________________________________\n",
      "Layer (type)                 Output Shape              Param #   \n",
      "=================================================================\n",
      "input_1 (InputLayer)         (None, 32, 32, 3)         0         \n",
      "_________________________________________________________________\n",
      "lambda_1 (Lambda)            (None, 32, 32, 3)         0         \n",
      "_________________________________________________________________\n",
      "conv2d_1 (Conv2D)            (None, 32, 32, 32)        896       \n",
      "_________________________________________________________________\n",
      "conv2d_2 (Conv2D)            (None, 32, 32, 32)        9248      \n",
      "_________________________________________________________________\n",
      "max_pooling2d_1 (MaxPooling2 (None, 16, 16, 32)        0         \n",
      "_________________________________________________________________\n",
      "conv2d_3 (Conv2D)            (None, 16, 16, 64)        18496     \n",
      "_________________________________________________________________\n",
      "conv2d_4 (Conv2D)            (None, 16, 16, 64)        36928     \n",
      "_________________________________________________________________\n",
      "max_pooling2d_2 (MaxPooling2 (None, 8, 8, 64)          0         \n",
      "_________________________________________________________________\n",
      "conv2d_5 (Conv2D)            (None, 8, 8, 128)         73856     \n",
      "_________________________________________________________________\n",
      "conv2d_6 (Conv2D)            (None, 8, 8, 128)         147584    \n",
      "_________________________________________________________________\n",
      "max_pooling2d_3 (MaxPooling2 (None, 4, 4, 128)         0         \n",
      "_________________________________________________________________\n",
      "conv2d_7 (Conv2D)            (None, 4, 4, 256)         295168    \n",
      "_________________________________________________________________\n",
      "conv2d_8 (Conv2D)            (None, 4, 4, 256)         590080    \n",
      "_________________________________________________________________\n",
      "max_pooling2d_4 (MaxPooling2 (None, 2, 2, 256)         0         \n",
      "_________________________________________________________________\n",
      "conv2d_9 (Conv2D)            (None, 2, 2, 512)         1180160   \n",
      "_________________________________________________________________\n",
      "conv2d_10 (Conv2D)           (None, 2, 2, 512)         2359808   \n",
      "_________________________________________________________________\n",
      "conv2d_transpose_1 (Conv2DTr (None, 4, 4, 256)         524544    \n",
      "_________________________________________________________________\n",
      "concatenate_1 (Concatenate)  (None, 4, 4, 512)         0         \n",
      "_________________________________________________________________\n",
      "conv2d_11 (Conv2D)           (None, 4, 4, 256)         1179904   \n",
      "_________________________________________________________________\n",
      "conv2d_12 (Conv2D)           (None, 4, 4, 256)         590080    \n",
      "_________________________________________________________________\n",
      "conv2d_transpose_2 (Conv2DTr (None, 8, 8, 128)         131200    \n",
      "_________________________________________________________________\n",
      "concatenate_2 (Concatenate)  (None, 8, 8, 256)         0         \n",
      "_________________________________________________________________\n",
      "conv2d_13 (Conv2D)           (None, 8, 8, 128)         295040    \n",
      "_________________________________________________________________\n",
      "conv2d_14 (Conv2D)           (None, 8, 8, 128)         147584    \n",
      "_________________________________________________________________\n",
      "conv2d_transpose_3 (Conv2DTr (None, 16, 16, 64)        32832     \n",
      "_________________________________________________________________\n",
      "concatenate_3 (Concatenate)  (None, 16, 16, 128)       0         \n",
      "_________________________________________________________________\n",
      "conv2d_15 (Conv2D)           (None, 16, 16, 64)        73792     \n",
      "_________________________________________________________________\n",
      "conv2d_16 (Conv2D)           (None, 16, 16, 64)        36928     \n",
      "_________________________________________________________________\n",
      "conv2d_transpose_4 (Conv2DTr (None, 32, 32, 32)        8224      \n",
      "_________________________________________________________________\n",
      "concatenate_4 (Concatenate)  (None, 32, 32, 64)        0         \n",
      "_________________________________________________________________\n",
      "conv2d_17 (Conv2D)           (None, 32, 32, 32)        18464     \n",
      "_________________________________________________________________\n",
      "conv2d_18 (Conv2D)           (None, 32, 32, 32)        9248      \n",
      "_________________________________________________________________\n",
      "conv2d_19 (Conv2D)           (None, 32, 32, 1)         33        \n",
      "=================================================================\n",
      "Total params: 7,760,097.0\n",
      "Trainable params: 7,760,097.0\n",
      "Non-trainable params: 0.0\n",
      "_________________________________________________________________\n"
     ]
    }
   ],
   "source": [
    "model.compile(\n",
    "    optimizer='adam',\n",
    "    loss=dice_coef_loss\n",
    ")\n",
    "\n",
    "model.summary()"
   ]
  },
  {
   "cell_type": "code",
   "execution_count": 14,
   "metadata": {
    "collapsed": true
   },
   "outputs": [],
   "source": [
    "train_filenames = glob.glob('data/train/*.jpg')\n",
    "mask_filenames = [fname.replace('train', 'train_masks').replace('.jpg', '_mask.gif') for fname in train_filenames]\n",
    "X_train, X_valid, y_train, y_valid = train_test_split(train_filenames, mask_filenames, test_size=0.3)"
   ]
  },
  {
   "cell_type": "code",
   "execution_count": 15,
   "metadata": {},
   "outputs": [
    {
     "name": "stdout",
     "output_type": "stream",
     "text": [
      "Steps needed: 890\n"
     ]
    }
   ],
   "source": [
    "EPOCHS = 4\n",
    "BATCH = 4\n",
    "PER_EPOCH = 32\n",
    "print('Steps needed:', (len(y_train) // BATCH))\n",
    "\n",
    "X_train, y_train = shuffle(X_train, y_train)\n",
    "X_valid, y_valid = shuffle(X_valid, y_valid)"
   ]
  },
  {
   "cell_type": "code",
   "execution_count": null,
   "metadata": {
    "scrolled": false
   },
   "outputs": [
    {
     "name": "stdout",
     "output_type": "stream",
     "text": [
      "Epoch 1/4\n",
      ">>1>>  (1, 32, 32, 3)\n",
      ">>2>>  (1, 32, 32, 1)\n",
      ">>1>>  (1, 32, 32, 3)\n",
      ">>2>>  (1, 32, 32, 1)\n",
      ">>1>>  (1, 32, 32, 3)\n",
      ">>2>>  (1, 32, 32, 1)\n",
      ">>1>>  (1, 32, 32, 3)\n",
      ">>2>>  (1, 32, 32, 1)\n",
      ">>1>>  (1, 32, 32, 3)\n",
      ">>2>>  (1, 32, 32, 1)\n",
      ">>1>>  (1, 32, 32, 3)\n",
      ">>2>>  (1, 32, 32, 1)\n",
      ">>1>>  (1, 32, 32, 3)\n",
      ">>2>>  (1, 32, 32, 1)\n",
      ">>1>>  (1, 32, 32, 3)\n",
      ">>2>>  (1, 32, 32, 1)\n",
      ">>1>>  (1, 32, 32, 3)\n",
      ">>2>>  (1, 32, 32, 1)\n",
      ">>1>>  (1, 32, 32, 3)\n",
      ">>2>>  (1, 32, 32, 1)\n",
      ">>1>>  (1, 32, 32, 3)\n",
      ">>2>>  (1, 32, 32, 1)\n",
      ">>1>>  (1, 32, 32, 3)\n",
      ">>2>>  (1, 32, 32, 1)\n",
      ">>1>>  (1, 32, 32, 3)\n",
      ">>2>>  (1, 32, 32, 1)\n",
      ">>1>>  (1, 32, 32, 3)\n",
      ">>2>>  (1, 32, 32, 1)\n",
      ">>1>>  (1, 32, 32, 3)\n",
      ">>2>>  (1, 32, 32, 1)\n",
      ">>1>>  (1, 32, 32, 3)\n",
      ">>2>>  (1, 32, 32, 1)\n",
      ">>1>>  (1, 32, 32, 3)\n",
      ">>2>>  (1, 32, 32, 1)\n",
      ">>1>>  (1, 32, 32, 3)\n",
      ">>2>>  (1, 32, 32, 1)\n",
      ">>1>>  (1, 32, 32, 3)\n",
      ">>2>>  (1, 32, 32, 1)\n",
      ">>1>>  (1, 32, 32, 3)\n",
      ">>2>>  (1, 32, 32, 1)\n",
      ">>1>>  (1, 32, 32, 3)\n",
      ">>2>>  (1, 32, 32, 1)\n",
      ">>1>>  (1, 32, 32, 3)\n",
      ">>2>>  (1, 32, 32, 1)\n",
      ">>1>>  (1, 32, 32, 3)\n",
      ">>2>>  (1, 32, 32, 1)\n",
      ">>1>>  (1, 32, 32, 3)\n",
      ">>2>>  (1, 32, 32, 1)\n",
      ">>1>>  (1, 32, 32, 3)\n",
      ">>2>>  (1, 32, 32, 1)\n",
      ">>1>>  (1, 32, 32, 3)\n",
      ">>2>>  (1, 32, 32, 1)\n",
      ">>1>>  (1, 32, 32, 3)\n",
      ">>2>>  (1, 32, 32, 1)\n",
      ">>1>>  (1, 32, 32, 3)\n",
      ">>2>>  (1, 32, 32, 1)\n",
      ">>1>>  (1, 32, 32, 3)\n",
      ">>2>>  (1, 32, 32, 1)\n",
      ">>1>>  (1, 32, 32, 3)\n",
      ">>2>>  (1, 32, 32, 1)\n",
      ">>1>>  (1, 32, 32, 3)\n",
      ">>2>>  (1, 32, 32, 1)\n",
      ">>1>>  (1, 32, 32, 3)\n",
      ">>2>>  (1, 32, 32, 1)\n",
      ">>1>>  (1, 32, 32, 3)\n",
      ">>2>>  (1, 32, 32, 1)\n",
      ">>1>>  (1, 32, 32, 3)\n",
      ">>2>>  (1, 32, 32, 1)\n",
      ">>1>>  (1, 32, 32, 3)\n",
      ">>2>>  (1, 32, 32, 1)\n",
      ">>1>>  (1, 32, 32, 3)\n",
      ">>2>>  (1, 32, 32, 1)\n",
      ">>1>>  (1, 32, 32, 3)\n",
      ">>2>>  (1, 32, 32, 1)\n",
      ">>1>>  (1, 32, 32, 3)\n",
      ">>2>>  (1, 32, 32, 1)\n",
      ">>1>>  (1, 32, 32, 3)\n",
      ">>2>>  (1, 32, 32, 1)\n",
      ">>1>>  (1, 32, 32, 3)\n",
      ">>2>>  (1, 32, 32, 1)\n",
      ">>1>>  (1, 32, 32, 3)\n",
      ">>2>>  (1, 32, 32, 1)\n",
      ">>1>>  (1, 32, 32, 3)\n",
      ">>2>>  (1, 32, 32, 1)\n",
      ">>1>>  (1, 32, 32, 3)\n",
      ">>2>>  (1, 32, 32, 1)\n",
      ">>1>>  (1, 32, 32, 3)\n",
      ">>2>>  (1, 32, 32, 1)\n"
     ]
    }
   ],
   "source": [
    "history = model.fit_generator(\n",
    "    generator(X_train, y_train, augment=False, batch_size=BATCH),\n",
    "    steps_per_epoch=PER_EPOCH,\n",
    "    epochs=EPOCHS,\n",
    "    validation_data=generator(X_valid, y_valid, batch_size=BATCH),\n",
    "    validation_steps=len(y_valid)//(2*BATCH),\n",
    "#    callbacks=callbacks_list,\n",
    "    pickle_safe=False\n",
    ")"
   ]
  },
  {
   "cell_type": "code",
   "execution_count": null,
   "metadata": {
    "collapsed": true
   },
   "outputs": [],
   "source": []
  }
 ],
 "metadata": {
  "kernelspec": {
   "display_name": "Python [default]",
   "language": "python",
   "name": "python3"
  },
  "language_info": {
   "codemirror_mode": {
    "name": "ipython",
    "version": 3
   },
   "file_extension": ".py",
   "mimetype": "text/x-python",
   "name": "python",
   "nbconvert_exporter": "python",
   "pygments_lexer": "ipython3",
   "version": "3.5.3"
  }
 },
 "nbformat": 4,
 "nbformat_minor": 2
}
